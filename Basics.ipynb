{
 "cells": [
  {
   "cell_type": "code",
   "execution_count": 6,
   "metadata": {
    "collapsed": false
   },
   "outputs": [],
   "source": [
    "import pandas as pd\n",
    "movies = pd.read_csv('fandango_score_comparison.csv')\n",
    "# movies"
   ]
  },
  {
   "cell_type": "code",
   "execution_count": 7,
   "metadata": {
    "collapsed": false,
    "scrolled": true
   },
   "outputs": [
    {
     "data": {
      "image/png": "[encoded data removed]",
      "text/plain": [
       "<matplotlib.figure.Figure at 0x7f6e838233c8>"
      ]
     },
     "metadata": {},
     "output_type": "display_data"
    },
    {
     "data": {
      "image/png": "[encoded data removed]",
      "text/plain": [
       "<matplotlib.figure.Figure at 0x7f6ed13617b8>"
      ]
     },
     "metadata": {},
     "output_type": "display_data"
    }
   ],
   "source": [
    "import matplotlib.pyplot as plt\n",
    "%matplotlib inline\n",
    "\n",
    "plt.hist(movies['Metacritic_norm_round'], range=(0,5))\n",
    "plt.ylim(0,70)\n",
    "plt.show()\n",
    "\n",
    "plt.hist(movies['Fandango_Stars'], range=(0,5))\n",
    "plt.ylim(0,70)\n",
    "plt.show()"
   ]
  },
  {
   "cell_type": "markdown",
   "metadata": {},
   "source": [
    "While both plots are skewed to the right Metartic is much closer to a normal distribution. Fandango stars are skewed heavily to the right or towards higher ratings."
   ]
  },
  {
   "cell_type": "code",
   "execution_count": 8,
   "metadata": {
    "collapsed": false
   },
   "outputs": [
    {
     "name": "stdout",
     "output_type": "stream",
     "text": [
      "Metacritic: 2.97260273973\n",
      "Fandango: 4.08904109589\n"
     ]
    }
   ],
   "source": [
    "meta_mean = movies['Metacritic_norm_round'].mean()\n",
    "print(\"Metacritic: \"+str(meta_mean))\n",
    "fand_mean = movies['Fandango_Stars'].mean()\n",
    "print(\"Fandango: \"+str(fand_mean))"
   ]
  },
  {
   "cell_type": "code",
   "execution_count": 9,
   "metadata": {
    "collapsed": false
   },
   "outputs": [
    {
     "name": "stdout",
     "output_type": "stream",
     "text": [
      "Metacritic: 3.0\n",
      "Fandango: 4.0\n"
     ]
    }
   ],
   "source": [
    "meta_median = movies['Metacritic_norm_round'].median()\n",
    "print(\"Metacritic: \"+str(meta_median))\n",
    "fand_median = movies['Fandango_Stars'].median()\n",
    "print(\"Fandango: \"+str(fand_median))"
   ]
  },
  {
   "cell_type": "code",
   "execution_count": 10,
   "metadata": {
    "collapsed": false
   },
   "outputs": [
    {
     "name": "stdout",
     "output_type": "stream",
     "text": [
      "Meta Standard Deviation: 0.987561029704\n",
      "Fandango Standard Deviation: 0.53853216127\n"
     ]
    }
   ],
   "source": [
    "import numpy as np\n",
    "stand_dev = np.std(movies['Metacritic_norm_round'])\n",
    "print(\"Meta Standard Deviation: \"+str(stand_dev))\n",
    "stand_dev = np.std(movies['Fandango_Stars'])\n",
    "print(\"Fandango Standard Deviation: \"+str(stand_dev))"
   ]
  },
  {
   "cell_type": "markdown",
   "metadata": {
    "collapsed": true
   },
   "source": [
    "The Fandango mean is larger than the median because there is an absence of smaller values. The skew towards more positive favourable reviews makes the mean greater.\n",
    "\n",
    "The standard deviation of the Metacritic reviews is larger because the reviews are more evenly distributed and therefore more variable.\n",
    "\n",
    "The mean for Fandango is much higher because on average Fandango reviews are much more likely to be higher."
   ]
  },
  {
   "cell_type": "code",
   "execution_count": 11,
   "metadata": {
    "collapsed": true
   },
   "outputs": [],
   "source": [
    "fm_diff = abs(movies['Fandango_Stars'] - movies['Metacritic_norm_round'])"
   ]
  },
  {
   "cell_type": "code",
   "execution_count": 12,
   "metadata": {
    "collapsed": false
   },
   "outputs": [
    {
     "data": {
      "image/png": "[encoded data removed]",
      "text/plain": [
       "<matplotlib.figure.Figure at 0x7f6e80eb0ef0>"
      ]
     },
     "metadata": {},
     "output_type": "display_data"
    }
   ],
   "source": [
    "plt.scatter(movies['Fandango_Stars'], movies['Metacritic_norm_round'])\n",
    "plt.xlim(0,6)\n",
    "plt.xlabel('Fandango')\n",
    "plt.ylabel('Metacritic')\n",
    "plt.ylim(0,5)\n",
    "plt.show()"
   ]
  },
  {
   "cell_type": "code",
   "execution_count": 13,
   "metadata": {
    "collapsed": false
   },
   "outputs": [],
   "source": [
    "movies['fm_diff'] = fm_diff"
   ]
  },
  {
   "cell_type": "code",
   "execution_count": 14,
   "metadata": {
    "collapsed": true
   },
   "outputs": [
    {
     "name": "stdout",
     "output_type": "stream",
     "text": [
      "                        FILM  RottenTomatoes  RottenTomatoes_User  Metacritic  \\\n",
      "3     Do You Believe? (2015)              18                   84          22   \n",
      "85         Little Boy (2015)              20                   81          30   \n",
      "47              Annie (2014)              27                   61          33   \n",
      "19             Pixels (2015)              17                   54          27   \n",
      "134  The Longest Ride (2015)              31                   73          33   \n",
      "\n",
      "     Metacritic_User  IMDB  Fandango_Stars  Fandango_Ratingvalue  RT_norm  \\\n",
      "3                4.7   5.4             5.0                   4.5     0.90   \n",
      "85               5.9   7.4             4.5                   4.3     1.00   \n",
      "47               4.8   5.2             4.5                   4.2     1.35   \n",
      "19               5.3   5.6             4.5                   4.1     0.85   \n",
      "134              4.8   7.2             4.5                   4.5     1.55   \n",
      "\n",
      "     RT_user_norm   ...     RT_norm_round  RT_user_norm_round  \\\n",
      "3            4.20   ...               1.0                 4.0   \n",
      "85           4.05   ...               1.0                 4.0   \n",
      "47           3.05   ...               1.5                 3.0   \n",
      "19           2.70   ...               1.0                 2.5   \n",
      "134          3.65   ...               1.5                 3.5   \n",
      "\n",
      "     Metacritic_norm_round  Metacritic_user_norm_round  IMDB_norm_round  \\\n",
      "3                      1.0                         2.5              2.5   \n",
      "85                     1.5                         3.0              3.5   \n",
      "47                     1.5                         2.5              2.5   \n",
      "19                     1.5                         2.5              3.0   \n",
      "134                    1.5                         2.5              3.5   \n",
      "\n",
      "     Metacritic_user_vote_count  IMDB_user_vote_count  Fandango_votes  \\\n",
      "3                            31                  3136            1793   \n",
      "85                           38                  5927             811   \n",
      "47                          108                 19222            6835   \n",
      "19                          246                 19521            3886   \n",
      "134                          49                 25214            2603   \n",
      "\n",
      "     Fandango_Difference  fm_diff  \n",
      "3                    0.5      4.0  \n",
      "85                   0.2      3.0  \n",
      "47                   0.3      3.0  \n",
      "19                   0.4      3.0  \n",
      "134                  0.0      3.0  \n",
      "\n",
      "[5 rows x 23 columns]\n"
     ]
    }
   ],
   "source": [
    "print(movies.sort_values(['fm_diff'], ascending=False).head())"
   ]
  },
  {
   "cell_type": "code",
   "execution_count": 21,
   "metadata": {
    "collapsed": false
   },
   "outputs": [
    {
     "name": "stdout",
     "output_type": "stream",
     "text": [
      "(0.17844919073895918, 0.031161516228523815)\n"
     ]
    }
   ],
   "source": [
    "from scipy import stats\n",
    "\n",
    "r_value = scipy.stats.pearsonr(movies['Fandango_Stars'], movies['Metacritic_norm_round'])\n",
    "print(r_value)"
   ]
  },
  {
   "cell_type": "markdown",
   "metadata": {},
   "source": [
    "Both services aim to give users a rating which will tell them how likely they are to enjoy a movie. The fact they are so poorly correlated suggests one or both services is using an ineffcient way of calculating their ratings. High correlation would suggest some consensus on which movies are good or bad. Consensus would show a high probability the ratings are correct."
   ]
  },
  {
   "cell_type": "code",
   "execution_count": 27,
   "metadata": {
    "collapsed": false
   },
   "outputs": [
    {
     "name": "stdout",
     "output_type": "stream",
     "text": [
      "4.09170715282\n",
      "3.89708499687\n",
      "4.28632930877\n"
     ]
    }
   ],
   "source": [
    "meta_fan_lrges = scipy.stats.linregress(movies['Metacritic_norm_round'], movies['Fandango_Stars'])\n",
    "\n",
    "pred_3 = 3 * meta_fan_lrges.slope + meta_fan_lrges.intercept\n",
    "print(pred_3)\n",
    "pred_1 = 1 * meta_fan_lrges.slope + meta_fan_lrges.intercept\n",
    "print(pred_1)\n",
    "pred_5 = 5 * meta_fan_lrges.slope + meta_fan_lrges.intercept\n",
    "print(pred_5)"
   ]
  },
  {
   "cell_type": "code",
   "execution_count": 32,
   "metadata": {
    "collapsed": false
   },
   "outputs": [
    {
     "data": {
      "image/png": "[encoded data removed]",
      "text/plain": [
       "<matplotlib.figure.Figure at 0x7f6e78502278>"
      ]
     },
     "metadata": {},
     "output_type": "display_data"
    }
   ],
   "source": [
    "\n",
    "prediction_scatter = plt.scatter([1.0,5.0], [pred_1, pred_5])\n",
    "plt.plot([1.0,5.0], [pred_1, pred_5])\n",
    "plt.xlim([1,5])\n",
    "plt.show()"
   ]
  }
 ],
 "metadata": {
  "kernelspec": {
   "display_name": "Python 3",
   "language": "python",
   "name": "python3"
  },
  "language_info": {
   "codemirror_mode": {
    "name": "ipython",
    "version": 3
   },
   "file_extension": ".py",
   "mimetype": "text/x-python",
   "name": "python",
   "nbconvert_exporter": "python",
   "pygments_lexer": "ipython3",
   "version": "3.4.3"
  }
 },
 "nbformat": 4,
 "nbformat_minor": 0
}
