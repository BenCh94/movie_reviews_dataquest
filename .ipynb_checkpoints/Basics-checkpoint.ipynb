{
 "cells": [
  {
   "cell_type": "code",
   "execution_count": 8,
   "metadata": {
    "collapsed": false
   },
   "outputs": [],
   "source": [
    "import pandas as pd\n",
    "movies = pd.read_csv('fandango_score_comparison.csv')\n",
    "# movies"
   ]
  },
  {
   "cell_type": "code",
   "execution_count": 9,
   "metadata": {
    "collapsed": true
   },
   "outputs": [
    {
     "data": {
      "image/png": "[encoded data removed]",
      "text/plain": [
       "<matplotlib.figure.Figure at 0x7f100a6ab0b8>"
      ]
     },
     "metadata": {},
     "output_type": "display_data"
    },
    {
     "data": {
      "image/png": "[encoded data removed]",
      "text/plain": [
       "<matplotlib.figure.Figure at 0x7f100a6dea20>"
      ]
     },
     "metadata": {},
     "output_type": "display_data"
    }
   ],
   "source": [
    "import matplotlib.pyplot as plt\n",
    "%matplotlib inline\n",
    "\n",
    "plt.hist(movies['Metacritic_norm_round'], range=(0,5))\n",
    "plt.ylim(0,70)\n",
    "plt.show()\n",
    "\n",
    "plt.hist(movies['Fandango_Stars'], range=(0,5))\n",
    "plt.ylim(0,70)\n",
    "plt.show()"
   ]
  },
  {
   "cell_type": "markdown",
   "metadata": {},
   "source": [
    "While both plots are skewed to the right Metartic is much closer to a normal distribution. Fandango stars are skewed heavily to the right or towards higher ratings."
   ]
  },
  {
   "cell_type": "code",
   "execution_count": 10,
   "metadata": {
    "collapsed": false
   },
   "outputs": [
    {
     "name": "stdout",
     "output_type": "stream",
     "text": [
      "Metacritic: 2.97260273973\n",
      "Fandango: 4.08904109589\n"
     ]
    }
   ],
   "source": [
    "meta_mean = movies['Metacritic_norm_round'].mean()\n",
    "print(\"Metacritic: \"+str(meta_mean))\n",
    "fand_mean = movies['Fandango_Stars'].mean()\n",
    "print(\"Fandango: \"+str(fand_mean))"
   ]
  },
  {
   "cell_type": "code",
   "execution_count": 11,
   "metadata": {
    "collapsed": false
   },
   "outputs": [
    {
     "name": "stdout",
     "output_type": "stream",
     "text": [
      "Metacritic: 3.0\n",
      "Fandango: 4.0\n"
     ]
    }
   ],
   "source": [
    "meta_median = movies['Metacritic_norm_round'].median()\n",
    "print(\"Metacritic: \"+str(meta_median))\n",
    "fand_median = movies['Fandango_Stars'].median()\n",
    "print(\"Fandango: \"+str(fand_median))"
   ]
  },
  {
   "cell_type": "code",
   "execution_count": 12,
   "metadata": {
    "collapsed": false
   },
   "outputs": [
    {
     "name": "stdout",
     "output_type": "stream",
     "text": [
      "Meta Standard Deviation: 0.987561029704\n",
      "Fandango Standard Deviation: 0.53853216127\n"
     ]
    }
   ],
   "source": [
    "import numpy as np\n",
    "stand_dev = np.std(movies['Metacritic_norm_round'])\n",
    "print(\"Meta Standard Deviation: \"+str(stand_dev))\n",
    "stand_dev = np.std(movies['Fandango_Stars'])\n",
    "print(\"Fandango Standard Deviation: \"+str(stand_dev))"
   ]
  },
  {
   "cell_type": "markdown",
   "metadata": {
    "collapsed": true
   },
   "source": [
    "The Fandango mean is larger than the median because there is an absence of smaller values. The skew towards more positive favourable reviews makes the mean greater.\n",
    "\n",
    "The standard deviation of the Metacritic reviews is larger because the reviews are more evenly distributed and therefore more variable.\n",
    "\n",
    "The mean for Fandango is much higher because on average Fandango reviews are much more likely to be higher."
   ]
  },
  {
   "cell_type": "code",
   "execution_count": 14,
   "metadata": {
    "collapsed": true
   },
   "outputs": [
    {
     "name": "stdout",
     "output_type": "stream",
     "text": [
      "0      1.5\n",
      "1      1.5\n",
      "2      2.0\n",
      "3      4.0\n",
      "4      2.0\n",
      "5      2.0\n",
      "6      1.5\n",
      "7      0.0\n",
      "8      0.5\n",
      "9      0.5\n",
      "10     1.0\n",
      "11     1.0\n",
      "12     0.5\n",
      "13     1.5\n",
      "14     1.5\n",
      "15     3.0\n",
      "16     2.0\n",
      "17     2.0\n",
      "18     2.0\n",
      "19     3.0\n",
      "20     2.0\n",
      "21     2.0\n",
      "22     1.5\n",
      "23     1.5\n",
      "24     0.5\n",
      "25     0.5\n",
      "26     0.5\n",
      "27     1.0\n",
      "28     0.5\n",
      "29     0.5\n",
      "      ... \n",
      "116    0.5\n",
      "117    0.0\n",
      "118    1.0\n",
      "119    1.0\n",
      "120    0.5\n",
      "121    0.5\n",
      "122    0.5\n",
      "123    1.5\n",
      "124    1.5\n",
      "125    2.5\n",
      "126    2.0\n",
      "127    1.5\n",
      "128    0.5\n",
      "129    0.0\n",
      "130    1.5\n",
      "131    1.0\n",
      "132    2.0\n",
      "133    3.0\n",
      "134    3.0\n",
      "135    1.5\n",
      "136    1.0\n",
      "137    1.0\n",
      "138    2.0\n",
      "139    1.0\n",
      "140    0.0\n",
      "141    0.5\n",
      "142    0.5\n",
      "143    1.0\n",
      "144    1.0\n",
      "145    0.0\n",
      "dtype: float64\n"
     ]
    }
   ],
   "source": [
    "movie_diff = abs(movies['Fandango_Stars'] - movies['Metacritic_norm_round'])\n",
    "print(movie_diff)"
   ]
  },
  {
   "cell_type": "code",
   "execution_count": null,
   "metadata": {
    "collapsed": true
   },
   "outputs": [],
   "source": []
  }
 ],
 "metadata": {
  "kernelspec": {
   "display_name": "Python 3",
   "language": "python",
   "name": "python3"
  },
  "language_info": {
   "codemirror_mode": {
    "name": "ipython",
    "version": 3
   },
   "file_extension": ".py",
   "mimetype": "text/x-python",
   "name": "python",
   "nbconvert_exporter": "python",
   "pygments_lexer": "ipython3",
   "version": "3.4.3"
  }
 },
 "nbformat": 4,
 "nbformat_minor": 0
}
